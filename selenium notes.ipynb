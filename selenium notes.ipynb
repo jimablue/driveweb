{
 "cells": [
  {
   "cell_type": "code",
   "execution_count": 7,
   "id": "b3a5c6bb",
   "metadata": {},
   "outputs": [],
   "source": [
    "from selenium import webdriver\n",
    "from selenium.webdriver.common.by import By\n",
    "from dotenv import load_dotenv\n",
    "import os\n",
    "load_dotenv() "
   ]
  },
  {
   "cell_type": "code",
   "execution_count": 10,
   "id": "fd377d0a",
   "metadata": {},
   "outputs": [
    {
     "name": "stdout",
     "output_type": "stream",
     "text": [
      "jihxox-9naJke-gicmup\n"
     ]
    }
   ],
   "source": [
    "\n"
   ]
  },
  {
   "cell_type": "code",
   "execution_count": 10,
   "id": "8a64aa46",
   "metadata": {},
   "outputs": [
    {
     "name": "stderr",
     "output_type": "stream",
     "text": [
      "<ipython-input-10-0de6c1691836>:1: DeprecationWarning: executable_path has been deprecated, please pass in a Service object\n",
      "  browser = webdriver.Chrome('drivers/chromedriver')\n"
     ]
    }
   ],
   "source": [
    "browser = webdriver.Chrome('drivers/chromedriver')"
   ]
  },
  {
   "cell_type": "code",
   "execution_count": 11,
   "id": "8f4d30c5",
   "metadata": {},
   "outputs": [],
   "source": [
    "browser.get('https://techstepacademy.com/training-ground')"
   ]
  },
  {
   "cell_type": "code",
   "execution_count": 22,
   "id": "8f41fef5",
   "metadata": {},
   "outputs": [],
   "source": [
    "input1 = \"input[id='ipt1']\" #CSS SELECTOR\n",
    "# or \"//button[@name='butn1']\"  XPATH\n",
    "# in chrome console=> $x(\"//b[contains(text(), 'Product 1')]\")\n",
    "element = browser.find_element(By.CSS_SELECTOR, input1)"
   ]
  },
  {
   "cell_type": "code",
   "execution_count": null,
   "id": "2a4bd6a4",
   "metadata": {},
   "outputs": [],
   "source": [
    "browser.get('https://techstepacademy.com/trial-of-the-stones')\n",
    "stone_input = \"input[id='r1Input']\""
   ]
  },
  {
   "cell_type": "code",
   "execution_count": 29,
   "id": "fe9bead0",
   "metadata": {},
   "outputs": [],
   "source": [
    "r1_element = browser.find_element(By.ID, 'r1Input')\n",
    "r1_element.send_keys(\"rocks\")"
   ]
  },
  {
   "cell_type": "code",
   "execution_count": 31,
   "id": "de3d3e6c",
   "metadata": {},
   "outputs": [],
   "source": [
    "answer1 = browser.find_element(By.ID, 'r1Btn')\n",
    "result1 = browser.find_element(By.CSS_SELECTOR, 'div#passwordBanner > h4')\n",
    "secrect_in = r1_element = browser.find_element(By.ID, 'r2Input')\n",
    "answer_secrect = browser.find_element(By.ID, 'r2Btn')"
   ]
  },
  {
   "cell_type": "code",
   "execution_count": 35,
   "id": "172954d5",
   "metadata": {},
   "outputs": [],
   "source": [
    "check_button = browser.find_element(By.CSS_SELECTOR, \"button[name='checkButn']\")\n"
   ]
  },
  {
   "cell_type": "code",
   "execution_count": 20,
   "id": "d0157790",
   "metadata": {},
   "outputs": [
    {
     "name": "stderr",
     "output_type": "stream",
     "text": [
      "<ipython-input-20-5e2c6ba37683>:1: DeprecationWarning: executable_path has been deprecated, please pass in a Service object\n",
      "  browser2 = webdriver.Chrome('drivers/chromedriver')\n"
     ]
    }
   ],
   "source": [
    "browser2 = webdriver.Chrome('drivers/chromedriver')\n",
    "browser2.get('https://substack.com/sign-in')"
   ]
  },
  {
   "cell_type": "code",
   "execution_count": 36,
   "id": "d7a9ec8f",
   "metadata": {},
   "outputs": [],
   "source": [
    "sign_in = browser2.find_element(By.CSS_SELECTOR, 'a[href=\"javascript:void(0)\"]')"
   ]
  },
  {
   "cell_type": "code",
   "execution_count": 37,
   "id": "c6797e60",
   "metadata": {},
   "outputs": [],
   "source": [
    "sign_in.click()"
   ]
  },
  {
   "cell_type": "code",
   "execution_count": 38,
   "id": "8bf6210b",
   "metadata": {},
   "outputs": [],
   "source": [
    "email = browser2.find_element(By.CSS_SELECTOR, 'input[placeholder=\"Your Email\"]')\n",
    "password = browser2.find_element(By.CSS_SELECTOR, 'input[placeholder=\"Your Password\"]')"
   ]
  },
  {
   "cell_type": "code",
   "execution_count": 40,
   "id": "ea13c829",
   "metadata": {},
   "outputs": [],
   "source": [
    "email.send_keys(os.environ[\"EMAIL\"])\n",
    "password.send_keys(os.environ[\"SUBS\"])"
   ]
  },
  {
   "cell_type": "code",
   "execution_count": 43,
   "id": "89b15db9",
   "metadata": {},
   "outputs": [],
   "source": [
    "actual_sign_in = browser2.find_element(By.XPATH,\"//button[text()='Sign in']\")"
   ]
  },
  {
   "cell_type": "code",
   "execution_count": 44,
   "id": "45f01793",
   "metadata": {},
   "outputs": [],
   "source": [
    "actual_sign_in.click()"
   ]
  },
  {
   "cell_type": "code",
   "execution_count": 53,
   "id": "3010ce0e",
   "metadata": {},
   "outputs": [
    {
     "name": "stderr",
     "output_type": "stream",
     "text": [
      "<ipython-input-53-17f2cb947f89>:1: DeprecationWarning: executable_path has been deprecated, please pass in a Service object\n",
      "  browser3 = webdriver.Chrome('drivers/chromedriver')\n"
     ]
    }
   ],
   "source": [
    "browser3 = webdriver.Chrome('drivers/chromedriver')\n",
    "browser3.get('https://substack.com/sign-in?redirect=https://reader.substack.com')"
   ]
  },
  {
   "cell_type": "code",
   "execution_count": 56,
   "id": "087f2ee6",
   "metadata": {},
   "outputs": [
    {
     "name": "stderr",
     "output_type": "stream",
     "text": [
      "<ipython-input-56-f86d74e9697a>:1: DeprecationWarning: executable_path has been deprecated, please pass in a Service object\n",
      "  browser3 = webdriver.Chrome('drivers/chromedriver')\n"
     ]
    }
   ],
   "source": [
    "browser3 = webdriver.Chrome('drivers/chromedriver')\n",
    "browser3.get('https://substack.com/sign-in?redirect=https://reader.substack.com')\n",
    "browser3.find_element(By.CSS_SELECTOR, 'a[href=\"javascript:void(0)\"]').click()\n",
    "\n",
    "email = browser3.find_element(By.CSS_SELECTOR, 'input[placeholder=\"Your Email\"]')\n",
    "password = browser3.find_element(By.CSS_SELECTOR, 'input[placeholder=\"Your Password\"]')\n",
    "email.send_keys(os.environ[\"EMAIL\"])\n",
    "password.send_keys(os.environ[\"SUBS\"])\n",
    "browser3.find_element(By.XPATH,\"//button[text()='Sign in']\").click()"
   ]
  },
  {
   "cell_type": "code",
   "execution_count": 52,
   "id": "6c2af02a",
   "metadata": {},
   "outputs": [],
   "source": []
  },
  {
   "cell_type": "code",
   "execution_count": null,
   "id": "4a64c434",
   "metadata": {},
   "outputs": [],
   "source": []
  }
 ],
 "metadata": {
  "kernelspec": {
   "display_name": "Python 3.8.8 ('base')",
   "language": "python",
   "name": "python3"
  },
  "language_info": {
   "codemirror_mode": {
    "name": "ipython",
    "version": 3
   },
   "file_extension": ".py",
   "mimetype": "text/x-python",
   "name": "python",
   "nbconvert_exporter": "python",
   "pygments_lexer": "ipython3",
   "version": "3.8.8"
  },
  "vscode": {
   "interpreter": {
    "hash": "0e9951ba7add9ea1fa746649d546d36e58f3d6a92617f77733522650fedff08a"
   }
  }
 },
 "nbformat": 4,
 "nbformat_minor": 5
}
