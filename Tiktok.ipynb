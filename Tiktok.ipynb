{
 "cells": [
  {
   "cell_type": "code",
   "execution_count": 1,
   "id": "e7a1df36",
   "metadata": {},
   "outputs": [
    {
     "name": "stderr",
     "output_type": "stream",
     "text": [
      "\n",
      "\n",
      "====== WebDriver manager ======\n",
      "Current google-chrome version is 99.0.4844\n",
      "Get LATEST chromedriver version for 99.0.4844 google-chrome\n",
      "Trying to download new driver from https://chromedriver.storage.googleapis.com/99.0.4844.51/chromedriver_mac64.zip\n",
      "Driver has been saved in cache [/Users/dylanchen/.wdm/drivers/chromedriver/mac64/99.0.4844.51]\n"
     ]
    }
   ],
   "source": [
    "from selenium import webdriver\n",
    "from selenium.webdriver.chrome.service import Service\n",
    "from selenium.webdriver.common.by import By\n",
    "from webdriver_manager.chrome import ChromeDriverManager\n",
    "service = Service(executable_path=ChromeDriverManager().install())\n",
    "driver = webdriver.Chrome(service=service)\n"
   ]
  },
  {
   "cell_type": "code",
   "execution_count": 2,
   "id": "7fe09a08",
   "metadata": {},
   "outputs": [],
   "source": [
    "driver.get('https://tiktok.com')"
   ]
  },
  {
   "cell_type": "code",
   "execution_count": 3,
   "id": "744994b2",
   "metadata": {},
   "outputs": [],
   "source": [
    "driver.find_element(By.CSS_SELECTOR, 'button[data-e2e=\"top-login-button\"]').click()"
   ]
  },
  {
   "cell_type": "code",
   "execution_count": 10,
   "id": "8a7b4c9f",
   "metadata": {},
   "outputs": [
    {
     "ename": "NoSuchElementException",
     "evalue": "Message: no such element: Unable to locate element: {\"method\":\"css selector\",\"selector\":\"div.channel-name-2qzLW\"}\n  (Session info: chrome=99.0.4844.51)\nStacktrace:\n0   chromedriver                        0x0000000100d8a159 chromedriver + 5120345\n1   chromedriver                        0x0000000100d17b13 chromedriver + 4651795\n2   chromedriver                        0x0000000100907e68 chromedriver + 392808\n3   chromedriver                        0x000000010093d181 chromedriver + 610689\n4   chromedriver                        0x000000010093d341 chromedriver + 611137\n5   chromedriver                        0x000000010096fa74 chromedriver + 817780\n6   chromedriver                        0x000000010095ab6d chromedriver + 732013\n7   chromedriver                        0x000000010096d637 chromedriver + 808503\n8   chromedriver                        0x000000010095aa33 chromedriver + 731699\n9   chromedriver                        0x00000001009305dd chromedriver + 558557\n10  chromedriver                        0x00000001009314f5 chromedriver + 562421\n11  chromedriver                        0x0000000100d4738d chromedriver + 4846477\n12  chromedriver                        0x0000000100d6121c chromedriver + 4952604\n13  chromedriver                        0x0000000100d66a12 chromedriver + 4975122\n14  chromedriver                        0x0000000100d61b4a chromedriver + 4954954\n15  chromedriver                        0x0000000100d3c5b0 chromedriver + 4801968\n16  chromedriver                        0x0000000100d7bf78 chromedriver + 5062520\n17  chromedriver                        0x0000000100d7c0ff chromedriver + 5062911\n18  chromedriver                        0x0000000100d91545 chromedriver + 5150021\n19  libsystem_pthread.dylib             0x00007ff81dd614f4 _pthread_start + 125\n20  libsystem_pthread.dylib             0x00007ff81dd5d00f thread_start + 15\n",
     "output_type": "error",
     "traceback": [
      "\u001b[0;31m---------------------------------------------------------------------------\u001b[0m",
      "\u001b[0;31mNoSuchElementException\u001b[0m                    Traceback (most recent call last)",
      "\u001b[0;32m<ipython-input-10-ac2fa06d651b>\u001b[0m in \u001b[0;36m<module>\u001b[0;34m\u001b[0m\n\u001b[1;32m      1\u001b[0m \u001b[0;31m# use_usr = driver.find_element(By.XPATH,\"//div[@class='channel-name-2qzLW' and text()='Use phone / email / username']\" ).click()\u001b[0m\u001b[0;34m\u001b[0m\u001b[0;34m\u001b[0m\u001b[0;34m\u001b[0m\u001b[0m\n\u001b[0;32m----> 2\u001b[0;31m \u001b[0muse_usr\u001b[0m \u001b[0;34m=\u001b[0m \u001b[0mdriver\u001b[0m\u001b[0;34m.\u001b[0m\u001b[0mfind_element\u001b[0m\u001b[0;34m(\u001b[0m\u001b[0mBy\u001b[0m\u001b[0;34m.\u001b[0m\u001b[0mCSS_SELECTOR\u001b[0m\u001b[0;34m,\u001b[0m\u001b[0;34m'div.channel-name-2qzLW'\u001b[0m\u001b[0;34m)\u001b[0m\u001b[0;34m.\u001b[0m\u001b[0mclick\u001b[0m\u001b[0;34m(\u001b[0m\u001b[0;34m)\u001b[0m\u001b[0;34m\u001b[0m\u001b[0;34m\u001b[0m\u001b[0m\n\u001b[0m\u001b[1;32m      3\u001b[0m \u001b[0;34m\u001b[0m\u001b[0m\n\u001b[1;32m      4\u001b[0m \u001b[0;34m\u001b[0m\u001b[0m\n",
      "\u001b[0;32m~/opt/anaconda3/lib/python3.8/site-packages/selenium/webdriver/remote/webdriver.py\u001b[0m in \u001b[0;36mfind_element\u001b[0;34m(self, by, value)\u001b[0m\n\u001b[1;32m   1242\u001b[0m             \u001b[0mvalue\u001b[0m \u001b[0;34m=\u001b[0m \u001b[0;34m'[name=\"%s\"]'\u001b[0m \u001b[0;34m%\u001b[0m \u001b[0mvalue\u001b[0m\u001b[0;34m\u001b[0m\u001b[0;34m\u001b[0m\u001b[0m\n\u001b[1;32m   1243\u001b[0m \u001b[0;34m\u001b[0m\u001b[0m\n\u001b[0;32m-> 1244\u001b[0;31m         return self.execute(Command.FIND_ELEMENT, {\n\u001b[0m\u001b[1;32m   1245\u001b[0m             \u001b[0;34m'using'\u001b[0m\u001b[0;34m:\u001b[0m \u001b[0mby\u001b[0m\u001b[0;34m,\u001b[0m\u001b[0;34m\u001b[0m\u001b[0;34m\u001b[0m\u001b[0m\n\u001b[1;32m   1246\u001b[0m             'value': value})['value']\n",
      "\u001b[0;32m~/opt/anaconda3/lib/python3.8/site-packages/selenium/webdriver/remote/webdriver.py\u001b[0m in \u001b[0;36mexecute\u001b[0;34m(self, driver_command, params)\u001b[0m\n\u001b[1;32m    422\u001b[0m         \u001b[0mresponse\u001b[0m \u001b[0;34m=\u001b[0m \u001b[0mself\u001b[0m\u001b[0;34m.\u001b[0m\u001b[0mcommand_executor\u001b[0m\u001b[0;34m.\u001b[0m\u001b[0mexecute\u001b[0m\u001b[0;34m(\u001b[0m\u001b[0mdriver_command\u001b[0m\u001b[0;34m,\u001b[0m \u001b[0mparams\u001b[0m\u001b[0;34m)\u001b[0m\u001b[0;34m\u001b[0m\u001b[0;34m\u001b[0m\u001b[0m\n\u001b[1;32m    423\u001b[0m         \u001b[0;32mif\u001b[0m \u001b[0mresponse\u001b[0m\u001b[0;34m:\u001b[0m\u001b[0;34m\u001b[0m\u001b[0;34m\u001b[0m\u001b[0m\n\u001b[0;32m--> 424\u001b[0;31m             \u001b[0mself\u001b[0m\u001b[0;34m.\u001b[0m\u001b[0merror_handler\u001b[0m\u001b[0;34m.\u001b[0m\u001b[0mcheck_response\u001b[0m\u001b[0;34m(\u001b[0m\u001b[0mresponse\u001b[0m\u001b[0;34m)\u001b[0m\u001b[0;34m\u001b[0m\u001b[0;34m\u001b[0m\u001b[0m\n\u001b[0m\u001b[1;32m    425\u001b[0m             response['value'] = self._unwrap_value(\n\u001b[1;32m    426\u001b[0m                 response.get('value', None))\n",
      "\u001b[0;32m~/opt/anaconda3/lib/python3.8/site-packages/selenium/webdriver/remote/errorhandler.py\u001b[0m in \u001b[0;36mcheck_response\u001b[0;34m(self, response)\u001b[0m\n\u001b[1;32m    245\u001b[0m                 \u001b[0malert_text\u001b[0m \u001b[0;34m=\u001b[0m \u001b[0mvalue\u001b[0m\u001b[0;34m[\u001b[0m\u001b[0;34m'alert'\u001b[0m\u001b[0;34m]\u001b[0m\u001b[0;34m.\u001b[0m\u001b[0mget\u001b[0m\u001b[0;34m(\u001b[0m\u001b[0;34m'text'\u001b[0m\u001b[0;34m)\u001b[0m\u001b[0;34m\u001b[0m\u001b[0;34m\u001b[0m\u001b[0m\n\u001b[1;32m    246\u001b[0m             \u001b[0;32mraise\u001b[0m \u001b[0mexception_class\u001b[0m\u001b[0;34m(\u001b[0m\u001b[0mmessage\u001b[0m\u001b[0;34m,\u001b[0m \u001b[0mscreen\u001b[0m\u001b[0;34m,\u001b[0m \u001b[0mstacktrace\u001b[0m\u001b[0;34m,\u001b[0m \u001b[0malert_text\u001b[0m\u001b[0;34m)\u001b[0m  \u001b[0;31m# type: ignore[call-arg]  # mypy is not smart enough here\u001b[0m\u001b[0;34m\u001b[0m\u001b[0;34m\u001b[0m\u001b[0m\n\u001b[0;32m--> 247\u001b[0;31m         \u001b[0;32mraise\u001b[0m \u001b[0mexception_class\u001b[0m\u001b[0;34m(\u001b[0m\u001b[0mmessage\u001b[0m\u001b[0;34m,\u001b[0m \u001b[0mscreen\u001b[0m\u001b[0;34m,\u001b[0m \u001b[0mstacktrace\u001b[0m\u001b[0;34m)\u001b[0m\u001b[0;34m\u001b[0m\u001b[0;34m\u001b[0m\u001b[0m\n\u001b[0m\u001b[1;32m    248\u001b[0m \u001b[0;34m\u001b[0m\u001b[0m\n\u001b[1;32m    249\u001b[0m     \u001b[0;32mdef\u001b[0m \u001b[0m_value_or_default\u001b[0m\u001b[0;34m(\u001b[0m\u001b[0mself\u001b[0m\u001b[0;34m,\u001b[0m \u001b[0mobj\u001b[0m\u001b[0;34m:\u001b[0m \u001b[0mMapping\u001b[0m\u001b[0;34m[\u001b[0m\u001b[0m_KT\u001b[0m\u001b[0;34m,\u001b[0m \u001b[0m_VT\u001b[0m\u001b[0;34m]\u001b[0m\u001b[0;34m,\u001b[0m \u001b[0mkey\u001b[0m\u001b[0;34m:\u001b[0m \u001b[0m_KT\u001b[0m\u001b[0;34m,\u001b[0m \u001b[0mdefault\u001b[0m\u001b[0;34m:\u001b[0m \u001b[0m_VT\u001b[0m\u001b[0;34m)\u001b[0m \u001b[0;34m->\u001b[0m \u001b[0m_VT\u001b[0m\u001b[0;34m:\u001b[0m\u001b[0;34m\u001b[0m\u001b[0;34m\u001b[0m\u001b[0m\n",
      "\u001b[0;31mNoSuchElementException\u001b[0m: Message: no such element: Unable to locate element: {\"method\":\"css selector\",\"selector\":\"div.channel-name-2qzLW\"}\n  (Session info: chrome=99.0.4844.51)\nStacktrace:\n0   chromedriver                        0x0000000100d8a159 chromedriver + 5120345\n1   chromedriver                        0x0000000100d17b13 chromedriver + 4651795\n2   chromedriver                        0x0000000100907e68 chromedriver + 392808\n3   chromedriver                        0x000000010093d181 chromedriver + 610689\n4   chromedriver                        0x000000010093d341 chromedriver + 611137\n5   chromedriver                        0x000000010096fa74 chromedriver + 817780\n6   chromedriver                        0x000000010095ab6d chromedriver + 732013\n7   chromedriver                        0x000000010096d637 chromedriver + 808503\n8   chromedriver                        0x000000010095aa33 chromedriver + 731699\n9   chromedriver                        0x00000001009305dd chromedriver + 558557\n10  chromedriver                        0x00000001009314f5 chromedriver + 562421\n11  chromedriver                        0x0000000100d4738d chromedriver + 4846477\n12  chromedriver                        0x0000000100d6121c chromedriver + 4952604\n13  chromedriver                        0x0000000100d66a12 chromedriver + 4975122\n14  chromedriver                        0x0000000100d61b4a chromedriver + 4954954\n15  chromedriver                        0x0000000100d3c5b0 chromedriver + 4801968\n16  chromedriver                        0x0000000100d7bf78 chromedriver + 5062520\n17  chromedriver                        0x0000000100d7c0ff chromedriver + 5062911\n18  chromedriver                        0x0000000100d91545 chromedriver + 5150021\n19  libsystem_pthread.dylib             0x00007ff81dd614f4 _pthread_start + 125\n20  libsystem_pthread.dylib             0x00007ff81dd5d00f thread_start + 15\n"
     ]
    }
   ],
   "source": [
    "# use_usr = driver.find_element(By.XPATH,\"//div[@class='channel-name-2qzLW' and text()='Use phone / email / username']\" ).click()\n",
    "use_usr = driver.find_element(By.CSS_SELECTOR,'div.channel-name-2qzLW').click()\n",
    "\n",
    "\n"
   ]
  },
  {
   "cell_type": "code",
   "execution_count": 4,
   "id": "b338ce17",
   "metadata": {},
   "outputs": [
    {
     "ename": "NoSuchElementException",
     "evalue": "Message: no such element: Unable to locate element: {\"method\":\"css selector\",\"selector\":\"input[placeholder=\"Your Email\"]\"}\n  (Session info: chrome=99.0.4844.51)\nStacktrace:\n0   chromedriver                        0x0000000100d8a159 chromedriver + 5120345\n1   chromedriver                        0x0000000100d17b13 chromedriver + 4651795\n2   chromedriver                        0x0000000100907e68 chromedriver + 392808\n3   chromedriver                        0x000000010093d181 chromedriver + 610689\n4   chromedriver                        0x000000010093d341 chromedriver + 611137\n5   chromedriver                        0x000000010096fa74 chromedriver + 817780\n6   chromedriver                        0x000000010095ab6d chromedriver + 732013\n7   chromedriver                        0x000000010096d637 chromedriver + 808503\n8   chromedriver                        0x000000010095aa33 chromedriver + 731699\n9   chromedriver                        0x00000001009305dd chromedriver + 558557\n10  chromedriver                        0x00000001009314f5 chromedriver + 562421\n11  chromedriver                        0x0000000100d4738d chromedriver + 4846477\n12  chromedriver                        0x0000000100d6121c chromedriver + 4952604\n13  chromedriver                        0x0000000100d66a12 chromedriver + 4975122\n14  chromedriver                        0x0000000100d61b4a chromedriver + 4954954\n15  chromedriver                        0x0000000100d3c5b0 chromedriver + 4801968\n16  chromedriver                        0x0000000100d7bf78 chromedriver + 5062520\n17  chromedriver                        0x0000000100d7c0ff chromedriver + 5062911\n18  chromedriver                        0x0000000100d91545 chromedriver + 5150021\n19  libsystem_pthread.dylib             0x00007ff81dd614f4 _pthread_start + 125\n20  libsystem_pthread.dylib             0x00007ff81dd5d00f thread_start + 15\n",
     "output_type": "error",
     "traceback": [
      "\u001b[0;31m---------------------------------------------------------------------------\u001b[0m",
      "\u001b[0;31mNoSuchElementException\u001b[0m                    Traceback (most recent call last)",
      "\u001b[0;32m<ipython-input-4-bb5250256e99>\u001b[0m in \u001b[0;36m<module>\u001b[0;34m\u001b[0m\n\u001b[0;32m----> 1\u001b[0;31m \u001b[0memail\u001b[0m \u001b[0;34m=\u001b[0m \u001b[0mdriver\u001b[0m\u001b[0;34m.\u001b[0m\u001b[0mfind_element\u001b[0m\u001b[0;34m(\u001b[0m\u001b[0mBy\u001b[0m\u001b[0;34m.\u001b[0m\u001b[0mCSS_SELECTOR\u001b[0m\u001b[0;34m,\u001b[0m \u001b[0;34m'input[placeholder=\"Your Email\"]'\u001b[0m\u001b[0;34m)\u001b[0m\u001b[0;34m\u001b[0m\u001b[0;34m\u001b[0m\u001b[0m\n\u001b[0m\u001b[1;32m      2\u001b[0m \u001b[0mpassword\u001b[0m \u001b[0;34m=\u001b[0m \u001b[0mdriver\u001b[0m\u001b[0;34m.\u001b[0m\u001b[0mfind_element\u001b[0m\u001b[0;34m(\u001b[0m\u001b[0mBy\u001b[0m\u001b[0;34m.\u001b[0m\u001b[0mCSS_SELECTOR\u001b[0m\u001b[0;34m,\u001b[0m \u001b[0;34m'input[placeholder=\"Your Password\"]'\u001b[0m\u001b[0;34m)\u001b[0m\u001b[0;34m\u001b[0m\u001b[0;34m\u001b[0m\u001b[0m\n\u001b[1;32m      3\u001b[0m \u001b[0memail\u001b[0m\u001b[0;34m.\u001b[0m\u001b[0msend_keys\u001b[0m\u001b[0;34m(\u001b[0m\u001b[0;34m'decrecyc@gmail.com'\u001b[0m\u001b[0;34m)\u001b[0m\u001b[0;34m\u001b[0m\u001b[0;34m\u001b[0m\u001b[0m\n\u001b[1;32m      4\u001b[0m \u001b[0mpassword\u001b[0m\u001b[0;34m.\u001b[0m\u001b[0msend_keys\u001b[0m\u001b[0;34m(\u001b[0m\u001b[0;34m'jihxox-9naJke-gicmup'\u001b[0m\u001b[0;34m)\u001b[0m\u001b[0;34m\u001b[0m\u001b[0;34m\u001b[0m\u001b[0m\n\u001b[1;32m      5\u001b[0m \u001b[0mdriver\u001b[0m\u001b[0;34m.\u001b[0m\u001b[0mfind_element\u001b[0m\u001b[0;34m(\u001b[0m\u001b[0mBy\u001b[0m\u001b[0;34m.\u001b[0m\u001b[0mXPATH\u001b[0m\u001b[0;34m,\u001b[0m\u001b[0;34m\"//button[text()='Sign in']\"\u001b[0m\u001b[0;34m)\u001b[0m\u001b[0;34m.\u001b[0m\u001b[0mclick\u001b[0m\u001b[0;34m(\u001b[0m\u001b[0;34m)\u001b[0m\u001b[0;31m#after sign in\u001b[0m\u001b[0;34m\u001b[0m\u001b[0;34m\u001b[0m\u001b[0m\n",
      "\u001b[0;32m~/opt/anaconda3/lib/python3.8/site-packages/selenium/webdriver/remote/webdriver.py\u001b[0m in \u001b[0;36mfind_element\u001b[0;34m(self, by, value)\u001b[0m\n\u001b[1;32m   1242\u001b[0m             \u001b[0mvalue\u001b[0m \u001b[0;34m=\u001b[0m \u001b[0;34m'[name=\"%s\"]'\u001b[0m \u001b[0;34m%\u001b[0m \u001b[0mvalue\u001b[0m\u001b[0;34m\u001b[0m\u001b[0;34m\u001b[0m\u001b[0m\n\u001b[1;32m   1243\u001b[0m \u001b[0;34m\u001b[0m\u001b[0m\n\u001b[0;32m-> 1244\u001b[0;31m         return self.execute(Command.FIND_ELEMENT, {\n\u001b[0m\u001b[1;32m   1245\u001b[0m             \u001b[0;34m'using'\u001b[0m\u001b[0;34m:\u001b[0m \u001b[0mby\u001b[0m\u001b[0;34m,\u001b[0m\u001b[0;34m\u001b[0m\u001b[0;34m\u001b[0m\u001b[0m\n\u001b[1;32m   1246\u001b[0m             'value': value})['value']\n",
      "\u001b[0;32m~/opt/anaconda3/lib/python3.8/site-packages/selenium/webdriver/remote/webdriver.py\u001b[0m in \u001b[0;36mexecute\u001b[0;34m(self, driver_command, params)\u001b[0m\n\u001b[1;32m    422\u001b[0m         \u001b[0mresponse\u001b[0m \u001b[0;34m=\u001b[0m \u001b[0mself\u001b[0m\u001b[0;34m.\u001b[0m\u001b[0mcommand_executor\u001b[0m\u001b[0;34m.\u001b[0m\u001b[0mexecute\u001b[0m\u001b[0;34m(\u001b[0m\u001b[0mdriver_command\u001b[0m\u001b[0;34m,\u001b[0m \u001b[0mparams\u001b[0m\u001b[0;34m)\u001b[0m\u001b[0;34m\u001b[0m\u001b[0;34m\u001b[0m\u001b[0m\n\u001b[1;32m    423\u001b[0m         \u001b[0;32mif\u001b[0m \u001b[0mresponse\u001b[0m\u001b[0;34m:\u001b[0m\u001b[0;34m\u001b[0m\u001b[0;34m\u001b[0m\u001b[0m\n\u001b[0;32m--> 424\u001b[0;31m             \u001b[0mself\u001b[0m\u001b[0;34m.\u001b[0m\u001b[0merror_handler\u001b[0m\u001b[0;34m.\u001b[0m\u001b[0mcheck_response\u001b[0m\u001b[0;34m(\u001b[0m\u001b[0mresponse\u001b[0m\u001b[0;34m)\u001b[0m\u001b[0;34m\u001b[0m\u001b[0;34m\u001b[0m\u001b[0m\n\u001b[0m\u001b[1;32m    425\u001b[0m             response['value'] = self._unwrap_value(\n\u001b[1;32m    426\u001b[0m                 response.get('value', None))\n",
      "\u001b[0;32m~/opt/anaconda3/lib/python3.8/site-packages/selenium/webdriver/remote/errorhandler.py\u001b[0m in \u001b[0;36mcheck_response\u001b[0;34m(self, response)\u001b[0m\n\u001b[1;32m    245\u001b[0m                 \u001b[0malert_text\u001b[0m \u001b[0;34m=\u001b[0m \u001b[0mvalue\u001b[0m\u001b[0;34m[\u001b[0m\u001b[0;34m'alert'\u001b[0m\u001b[0;34m]\u001b[0m\u001b[0;34m.\u001b[0m\u001b[0mget\u001b[0m\u001b[0;34m(\u001b[0m\u001b[0;34m'text'\u001b[0m\u001b[0;34m)\u001b[0m\u001b[0;34m\u001b[0m\u001b[0;34m\u001b[0m\u001b[0m\n\u001b[1;32m    246\u001b[0m             \u001b[0;32mraise\u001b[0m \u001b[0mexception_class\u001b[0m\u001b[0;34m(\u001b[0m\u001b[0mmessage\u001b[0m\u001b[0;34m,\u001b[0m \u001b[0mscreen\u001b[0m\u001b[0;34m,\u001b[0m \u001b[0mstacktrace\u001b[0m\u001b[0;34m,\u001b[0m \u001b[0malert_text\u001b[0m\u001b[0;34m)\u001b[0m  \u001b[0;31m# type: ignore[call-arg]  # mypy is not smart enough here\u001b[0m\u001b[0;34m\u001b[0m\u001b[0;34m\u001b[0m\u001b[0m\n\u001b[0;32m--> 247\u001b[0;31m         \u001b[0;32mraise\u001b[0m \u001b[0mexception_class\u001b[0m\u001b[0;34m(\u001b[0m\u001b[0mmessage\u001b[0m\u001b[0;34m,\u001b[0m \u001b[0mscreen\u001b[0m\u001b[0;34m,\u001b[0m \u001b[0mstacktrace\u001b[0m\u001b[0;34m)\u001b[0m\u001b[0;34m\u001b[0m\u001b[0;34m\u001b[0m\u001b[0m\n\u001b[0m\u001b[1;32m    248\u001b[0m \u001b[0;34m\u001b[0m\u001b[0m\n\u001b[1;32m    249\u001b[0m     \u001b[0;32mdef\u001b[0m \u001b[0m_value_or_default\u001b[0m\u001b[0;34m(\u001b[0m\u001b[0mself\u001b[0m\u001b[0;34m,\u001b[0m \u001b[0mobj\u001b[0m\u001b[0;34m:\u001b[0m \u001b[0mMapping\u001b[0m\u001b[0;34m[\u001b[0m\u001b[0m_KT\u001b[0m\u001b[0;34m,\u001b[0m \u001b[0m_VT\u001b[0m\u001b[0;34m]\u001b[0m\u001b[0;34m,\u001b[0m \u001b[0mkey\u001b[0m\u001b[0;34m:\u001b[0m \u001b[0m_KT\u001b[0m\u001b[0;34m,\u001b[0m \u001b[0mdefault\u001b[0m\u001b[0;34m:\u001b[0m \u001b[0m_VT\u001b[0m\u001b[0;34m)\u001b[0m \u001b[0;34m->\u001b[0m \u001b[0m_VT\u001b[0m\u001b[0;34m:\u001b[0m\u001b[0;34m\u001b[0m\u001b[0;34m\u001b[0m\u001b[0m\n",
      "\u001b[0;31mNoSuchElementException\u001b[0m: Message: no such element: Unable to locate element: {\"method\":\"css selector\",\"selector\":\"input[placeholder=\"Your Email\"]\"}\n  (Session info: chrome=99.0.4844.51)\nStacktrace:\n0   chromedriver                        0x0000000100d8a159 chromedriver + 5120345\n1   chromedriver                        0x0000000100d17b13 chromedriver + 4651795\n2   chromedriver                        0x0000000100907e68 chromedriver + 392808\n3   chromedriver                        0x000000010093d181 chromedriver + 610689\n4   chromedriver                        0x000000010093d341 chromedriver + 611137\n5   chromedriver                        0x000000010096fa74 chromedriver + 817780\n6   chromedriver                        0x000000010095ab6d chromedriver + 732013\n7   chromedriver                        0x000000010096d637 chromedriver + 808503\n8   chromedriver                        0x000000010095aa33 chromedriver + 731699\n9   chromedriver                        0x00000001009305dd chromedriver + 558557\n10  chromedriver                        0x00000001009314f5 chromedriver + 562421\n11  chromedriver                        0x0000000100d4738d chromedriver + 4846477\n12  chromedriver                        0x0000000100d6121c chromedriver + 4952604\n13  chromedriver                        0x0000000100d66a12 chromedriver + 4975122\n14  chromedriver                        0x0000000100d61b4a chromedriver + 4954954\n15  chromedriver                        0x0000000100d3c5b0 chromedriver + 4801968\n16  chromedriver                        0x0000000100d7bf78 chromedriver + 5062520\n17  chromedriver                        0x0000000100d7c0ff chromedriver + 5062911\n18  chromedriver                        0x0000000100d91545 chromedriver + 5150021\n19  libsystem_pthread.dylib             0x00007ff81dd614f4 _pthread_start + 125\n20  libsystem_pthread.dylib             0x00007ff81dd5d00f thread_start + 15\n"
     ]
    }
   ],
   "source": [
    "email = driver.find_element(By.CSS_SELECTOR, 'input[placeholder=\"Your Email\"]')\n",
    "password = driver.find_element(By.CSS_SELECTOR, 'input[placeholder=\"Your Password\"]')\n",
    "email.send_keys('decrecyc@gmail.com')\n",
    "password.send_keys('jihxox-9naJke-gicmup')\n",
    "driver.find_element(By.XPATH,\"//button[text()='Sign in']\").click()#after sign in\n",
    "# bull = driver.find_element(By.XPATH,\"//div[class='sidebar-publication-title' and text()='BowTied Bull']\" ).click()\n",
    "bull = driver.find_element(By.XPATH,\"//div[@class='sidebar-publication-title' and text()='BowTied Bull']\" ).click()\n",
    "\n",
    "#after sign in\n",
    "# bull = driver.find_element(By.XPATH,\"//div[class='sidebar-publication-title' and text()='BowTied Bull']\" ).click()\n",
    "bull = driver.find_element(By.XPATH,\"//div[@class='sidebar-publication-title' and text()='BowTied Bull']\" ).click()"
   ]
  },
  {
   "cell_type": "code",
   "execution_count": null,
   "id": "3ef3d522",
   "metadata": {},
   "outputs": [],
   "source": []
  }
 ],
 "metadata": {
  "kernelspec": {
   "display_name": "Python 3.7.2 64-bit ('3.7.2')",
   "language": "python",
   "name": "python3"
  },
  "language_info": {
   "codemirror_mode": {
    "name": "ipython",
    "version": 3
   },
   "file_extension": ".py",
   "mimetype": "text/x-python",
   "name": "python",
   "nbconvert_exporter": "python",
   "pygments_lexer": "ipython3",
   "version": "3.7.2"
  },
  "vscode": {
   "interpreter": {
    "hash": "3238a9083eb42f81cade8f63cd8f21aea873aefa0b3e59db33e967644774ddc5"
   }
  }
 },
 "nbformat": 4,
 "nbformat_minor": 5
}
